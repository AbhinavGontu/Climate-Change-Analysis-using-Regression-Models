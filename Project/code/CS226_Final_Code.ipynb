{
 "cells": [
  {
   "cell_type": "markdown",
   "metadata": {},
   "source": [
    "**Importing Libraries**"
   ]
  },
  {
   "cell_type": "code",
   "execution_count": 23,
   "metadata": {},
   "outputs": [],
   "source": [
    "import pandas as pandas_obj\n",
    "\n",
    "from sklearn.feature_selection import SelectKBest\n",
    "from sklearn.feature_selection import f_regression\n",
    "\n",
    "import os\n",
    "import pyspark\n",
    "import findspark\n",
    "\n",
    "from pyspark.ml.feature import VectorAssembler\n",
    "from pyspark.ml.regression import LinearRegression\n",
    "\n",
    "from pyspark.ml import Pipeline\n",
    "from pyspark.ml.feature import VectorIndexer\n",
    "from pyspark.ml.evaluation import RegressionEvaluator\n",
    "\n",
    "from pyspark.ml.regression import RandomForestRegressor\n",
    "from pyspark.ml.regression import GBTRegressor\n",
    "\n",
    "from sklearn.metrics import r2_score, mean_absolute_error, mean_squared_error\n",
    "from sklearn.linear_model import BayesianRidge\n",
    "\n",
    "from sklearn.model_selection import cross_val_score\n",
    "from sklearn.model_selection import RepeatedKFold\n",
    "from sklearn.linear_model import Lasso\n",
    "\n",
    "from pyspark.sql.functions import *"
   ]
  },
  {
   "cell_type": "markdown",
   "metadata": {},
   "source": [
    "**Python 3.8.10 64 bit Interpreter on Microsoft VS Code**"
   ]
  },
  {
   "cell_type": "markdown",
   "metadata": {},
   "source": [
    "**Importing Data and Creating DataFrames**"
   ]
  },
  {
   "cell_type": "markdown",
   "metadata": {},
   "source": [
    "**Convert nc4 to CSV**"
   ]
  },
  {
   "cell_type": "code",
   "execution_count": null,
   "metadata": {},
   "outputs": [],
   "source": [
    "import xarray as xarray_obj\n",
    "\n",
    "nc = xarray_obj.open_dataset('../dataset/csv/data_2021.nc4')\n",
    "nc.to_dataframe().to_csv('../dataset/nc4/2021.csv')"
   ]
  },
  {
   "cell_type": "code",
   "execution_count": 12,
   "metadata": {},
   "outputs": [],
   "source": [
    "file_2018_path = \"../dataset/data_2018.csv\"\n",
    "file_2019_path = \"../dataset/data_2019.csv\"\n",
    "file_2020_path = \"../dataset/data_2020.csv\"\n",
    "file_2021_path = \"../dataset/data_2021.csv\"\n",
    "\n",
    "data_2018 = pandas_obj.read_csv(file_2018_path)\n",
    "data_2019 = pandas_obj.read_csv(file_2019_path)\n",
    "data_2020 = pandas_obj.read_csv(file_2020_path)\n",
    "data_2021 = pandas_obj.read_csv(file_2021_path)\n",
    "\n",
    "data = pandas_obj.concat( [ data_2018, data_2019, data_2020, data_2021  ] )\n",
    "drop_cols = ['latitude', 'longitude','speedlml']\n",
    "data_kbest = data.drop( drop_cols, axis = 1 )"
   ]
  },
  {
   "cell_type": "markdown",
   "metadata": {},
   "source": [
    "**Feature Selection using SelectKBest**"
   ]
  },
  {
   "cell_type": "code",
   "execution_count": 28,
   "metadata": {},
   "outputs": [
    {
     "name": "stdout",
     "output_type": "stream",
     "text": [
      "KBest features\n",
      "  Feature_Name         Score\n",
      "2         hlml  4.811379e+09\n",
      "5         qlml  7.596272e+06\n",
      "3           ps  3.998960e+06\n",
      "1     latitude  6.446894e+05\n",
      "4     speedlml  4.545948e+05\n",
      "0    longitude  2.175042e+04\n"
     ]
    }
   ],
   "source": [
    "from sklearn.feature_selection import SelectKBest\n",
    "from sklearn.feature_selection import f_regression\n",
    "\n",
    "\n",
    "drop_cols = ['tlml']\n",
    "\n",
    "features = data.drop(drop_cols, axis = 1)\n",
    "label = data['tlml']\n",
    "\n",
    "best_features = SelectKBest( score_func = f_regression, k = 3 )\n",
    "fit = best_features.fit( features , label )\n",
    "df_scores = pandas_obj.DataFrame( fit.scores_ )\n",
    "df_columns = pandas_obj.DataFrame( features.columns)\n",
    "feature_scores = pandas_obj.concat( [ df_columns, df_scores ] , axis = 1 )\n",
    "feature_scores.columns = [ 'Feature_Name' , 'Score' ]\n",
    "\n",
    "print(\"KBest features\")\n",
    "print(feature_scores.nlargest( 20, 'Score' ) )"
   ]
  },
  {
   "cell_type": "markdown",
   "metadata": {},
   "source": [
    "**Start PySpark Session**"
   ]
  },
  {
   "cell_type": "code",
   "execution_count": 14,
   "metadata": {},
   "outputs": [
    {
     "name": "stderr",
     "output_type": "stream",
     "text": [
      "21/12/10 15:06:32 WARN Utils: Your hostname, Abhinav-OMEN resolves to a loopback address: 127.0.1.1; using 192.168.1.187 instead (on interface wlo1)\n",
      "21/12/10 15:06:32 WARN Utils: Set SPARK_LOCAL_IP if you need to bind to another address\n",
      "Using Spark's default log4j profile: org/apache/spark/log4j-defaults.properties\n",
      "Setting default log level to \"WARN\".\n",
      "To adjust logging level use sc.setLogLevel(newLevel). For SparkR, use setLogLevel(newLevel).\n",
      "21/12/10 15:06:34 WARN NativeCodeLoader: Unable to load native-hadoop library for your platform... using builtin-java classes where applicable\n"
     ]
    }
   ],
   "source": [
    "os.environ[\"JAVA_HOME\"] = \"/usr/lib/jvm/java-8-openjdk-amd64\"\n",
    "os.environ[\"SPARK_HOME\"] = \"/opt/spark\"\n",
    "findspark.init()\n",
    "from pyspark.sql import SparkSession\n",
    "spark = SparkSession.builder.master(\"local[*]\").getOrCreate()"
   ]
  },
  {
   "cell_type": "markdown",
   "metadata": {},
   "source": [
    "**Upload DataFrame with all 4 years data into spark**"
   ]
  },
  {
   "cell_type": "code",
   "execution_count": 15,
   "metadata": {},
   "outputs": [
    {
     "name": "stderr",
     "output_type": "stream",
     "text": [
      "                                                                                \r"
     ]
    }
   ],
   "source": [
    "dataset = spark.read.csv('../dataset/dataset.csv',inferSchema=True, header =True)"
   ]
  },
  {
   "cell_type": "markdown",
   "metadata": {},
   "source": [
    "**Schema of DataFrame with all data in Spark**"
   ]
  },
  {
   "cell_type": "code",
   "execution_count": 6,
   "metadata": {},
   "outputs": [
    {
     "name": "stdout",
     "output_type": "stream",
     "text": [
      "root\n",
      " |-- longitude: double (nullable = true)\n",
      " |-- latitude: double (nullable = true)\n",
      " |-- hlml: double (nullable = true)\n",
      " |-- tlml: double (nullable = true)\n",
      " |-- ps: double (nullable = true)\n",
      " |-- speedlml: double (nullable = true)\n",
      " |-- qlml: double (nullable = true)\n",
      "\n"
     ]
    }
   ],
   "source": [
    "dataset.printSchema()"
   ]
  },
  {
   "cell_type": "markdown",
   "metadata": {},
   "source": [
    "**Separation of SelectKBest Features and Label with the help of VectorAssembler**"
   ]
  },
  {
   "cell_type": "code",
   "execution_count": 16,
   "metadata": {},
   "outputs": [],
   "source": [
    "assembler_kbest = VectorAssembler( inputCols=[ 'qlml', 'hlml' , 'ps'], outputCol = 'Attributes')\n",
    " \n",
    "output_kbest = assembler_kbest.transform(dataset)\n",
    " \n",
    "finalized_data_kbest = output_kbest.select(\"Attributes\", 'tlml')"
   ]
  },
  {
   "cell_type": "markdown",
   "metadata": {},
   "source": [
    "**Linear Regression with SelectKBest features in PySpark**"
   ]
  },
  {
   "cell_type": "code",
   "execution_count": 18,
   "metadata": {},
   "outputs": [
    {
     "name": "stderr",
     "output_type": "stream",
     "text": [
      "21/12/10 15:07:22 WARN Instrumentation: [acbd6a58] regParam is zero, which might cause numerical instability and overfitting.\n",
      "                                                                                \r"
     ]
    }
   ],
   "source": [
    "\n",
    "train_data,test_data = finalized_data_kbest.randomSplit([0.75,0.25])\n",
    " \n",
    " \n",
    "regressor_kbest = LinearRegression( featuresCol = 'Attributes', labelCol = 'tlml')\n",
    " \n",
    "regressor_kbest = regressor_kbest.fit(test_data)\n",
    " \n",
    "pred_kbest = regressor_kbest.evaluate(test_data)\n"
   ]
  },
  {
   "cell_type": "markdown",
   "metadata": {},
   "source": [
    "**Random Forrest Regression without SelectKBest Features in PySpark**"
   ]
  },
  {
   "cell_type": "code",
   "execution_count": 19,
   "metadata": {},
   "outputs": [
    {
     "name": "stderr",
     "output_type": "stream",
     "text": [
      "21/12/10 15:07:59 WARN MemoryStore: Not enough space to cache rdd_66_2 in memory! (computed 17.8 MiB so far)\n",
      "21/12/10 15:07:59 WARN BlockManager: Persisting block rdd_66_2 to disk instead.\n",
      "21/12/10 15:07:59 WARN MemoryStore: Not enough space to cache rdd_66_1 in memory! (computed 17.8 MiB so far)\n",
      "21/12/10 15:07:59 WARN MemoryStore: Not enough space to cache rdd_66_0 in memory! (computed 17.8 MiB so far)\n",
      "21/12/10 15:07:59 WARN BlockManager: Persisting block rdd_66_0 to disk instead.\n",
      "21/12/10 15:07:59 WARN BlockManager: Persisting block rdd_66_1 to disk instead.\n",
      "21/12/10 15:07:59 WARN MemoryStore: Not enough space to cache rdd_66_5 in memory! (computed 11.5 MiB so far)\n",
      "21/12/10 15:07:59 WARN BlockManager: Persisting block rdd_66_5 to disk instead.\n",
      "21/12/10 15:07:59 WARN MemoryStore: Not enough space to cache rdd_66_6 in memory! (computed 17.8 MiB so far)\n",
      "21/12/10 15:07:59 WARN BlockManager: Persisting block rdd_66_6 to disk instead.\n",
      "21/12/10 15:07:59 WARN MemoryStore: Not enough space to cache rdd_66_4 in memory! (computed 11.5 MiB so far)\n",
      "21/12/10 15:07:59 WARN BlockManager: Persisting block rdd_66_4 to disk instead.\n",
      "21/12/10 15:07:59 WARN MemoryStore: Not enough space to cache rdd_66_3 in memory! (computed 17.8 MiB so far)\n",
      "21/12/10 15:07:59 WARN BlockManager: Persisting block rdd_66_3 to disk instead.\n",
      "21/12/10 15:08:02 WARN MemoryStore: Not enough space to cache rdd_66_2 in memory! (computed 41.1 MiB so far)\n",
      "21/12/10 15:08:02 WARN MemoryStore: Not enough space to cache rdd_66_6 in memory! (computed 41.1 MiB so far)\n",
      "21/12/10 15:08:02 WARN MemoryStore: Not enough space to cache rdd_66_1 in memory! (computed 41.1 MiB so far)\n",
      "21/12/10 15:08:02 WARN MemoryStore: Not enough space to cache rdd_66_3 in memory! (computed 41.1 MiB so far)\n",
      "21/12/10 15:08:02 WARN MemoryStore: Not enough space to cache rdd_66_4 in memory! (computed 41.1 MiB so far)\n",
      "21/12/10 15:08:02 WARN MemoryStore: Not enough space to cache rdd_66_5 in memory! (computed 41.1 MiB so far)\n",
      "21/12/10 15:08:02 WARN MemoryStore: Not enough space to cache rdd_66_0 in memory! (computed 41.1 MiB so far)\n",
      "21/12/10 15:08:04 WARN MemoryStore: Not enough space to cache rdd_66_5 in memory! (computed 41.1 MiB so far)\n",
      "21/12/10 15:08:04 WARN MemoryStore: Not enough space to cache rdd_66_6 in memory! (computed 41.1 MiB so far)\n",
      "21/12/10 15:08:04 WARN MemoryStore: Not enough space to cache rdd_66_1 in memory! (computed 41.1 MiB so far)\n",
      "21/12/10 15:08:05 WARN MemoryStore: Not enough space to cache rdd_66_4 in memory! (computed 41.1 MiB so far)\n",
      "21/12/10 15:08:05 WARN MemoryStore: Not enough space to cache rdd_66_0 in memory! (computed 41.1 MiB so far)\n",
      "21/12/10 15:08:05 WARN MemoryStore: Not enough space to cache rdd_66_3 in memory! (computed 41.1 MiB so far)\n",
      "21/12/10 15:08:05 WARN MemoryStore: Not enough space to cache rdd_66_2 in memory! (computed 41.1 MiB so far)\n",
      "21/12/10 15:08:07 WARN MemoryStore: Not enough space to cache rdd_66_0 in memory! (computed 41.1 MiB so far)\n",
      "21/12/10 15:08:07 WARN MemoryStore: Not enough space to cache rdd_66_2 in memory! (computed 41.1 MiB so far)\n",
      "21/12/10 15:08:07 WARN MemoryStore: Not enough space to cache rdd_66_4 in memory! (computed 41.1 MiB so far)\n",
      "21/12/10 15:08:07 WARN MemoryStore: Not enough space to cache rdd_66_5 in memory! (computed 41.1 MiB so far)\n",
      "21/12/10 15:08:07 WARN MemoryStore: Not enough space to cache rdd_66_1 in memory! (computed 41.1 MiB so far)\n",
      "21/12/10 15:08:07 WARN MemoryStore: Not enough space to cache rdd_66_3 in memory! (computed 41.1 MiB so far)\n",
      "21/12/10 15:08:07 WARN MemoryStore: Not enough space to cache rdd_66_6 in memory! (computed 41.1 MiB so far)\n",
      "21/12/10 15:08:10 WARN MemoryStore: Not enough space to cache rdd_66_3 in memory! (computed 41.1 MiB so far)\n",
      "21/12/10 15:08:10 WARN MemoryStore: Not enough space to cache rdd_66_2 in memory! (computed 41.1 MiB so far)\n",
      "21/12/10 15:08:10 WARN MemoryStore: Not enough space to cache rdd_66_1 in memory! (computed 41.1 MiB so far)\n",
      "21/12/10 15:08:10 WARN MemoryStore: Not enough space to cache rdd_66_0 in memory! (computed 41.1 MiB so far)\n",
      "21/12/10 15:08:10 WARN MemoryStore: Not enough space to cache rdd_66_4 in memory! (computed 41.1 MiB so far)\n",
      "21/12/10 15:08:10 WARN MemoryStore: Not enough space to cache rdd_66_5 in memory! (computed 41.1 MiB so far)\n",
      "21/12/10 15:08:10 WARN MemoryStore: Not enough space to cache rdd_66_6 in memory! (computed 41.1 MiB so far)\n",
      "21/12/10 15:08:13 WARN MemoryStore: Not enough space to cache rdd_66_4 in memory! (computed 41.1 MiB so far)\n",
      "21/12/10 15:08:13 WARN MemoryStore: Not enough space to cache rdd_66_0 in memory! (computed 41.1 MiB so far)\n",
      "21/12/10 15:08:13 WARN MemoryStore: Not enough space to cache rdd_66_5 in memory! (computed 41.1 MiB so far)\n",
      "21/12/10 15:08:13 WARN MemoryStore: Not enough space to cache rdd_66_2 in memory! (computed 41.1 MiB so far)\n",
      "21/12/10 15:08:13 WARN MemoryStore: Not enough space to cache rdd_66_1 in memory! (computed 41.1 MiB so far)\n",
      "21/12/10 15:08:13 WARN MemoryStore: Not enough space to cache rdd_66_3 in memory! (computed 41.1 MiB so far)\n",
      "21/12/10 15:08:13 WARN MemoryStore: Not enough space to cache rdd_66_6 in memory! (computed 41.1 MiB so far)\n",
      "                                                                                \r"
     ]
    },
    {
     "name": "stdout",
     "output_type": "stream",
     "text": [
      "+------------------+---------+--------------------+\n",
      "|        prediction|     tlml|          Attributes|\n",
      "+------------------+---------+--------------------+\n",
      "|218.29830029560586|211.05702|[4.52E-6,46.62352...|\n",
      "|218.29830029560586|210.92506|[4.6E-6,46.594906...|\n",
      "|218.29830029560586|210.36833|[4.68E-6,46.46727...|\n",
      "|218.29830029560586|210.13583|[4.71E-6,46.41733...|\n",
      "|218.29830029560586|211.05963|[4.86E-6,46.62463...|\n",
      "|218.29830029560586|210.32397|[4.94E-6,46.45919...|\n",
      "|218.29830029560586|210.74211|[4.97E-6,46.54875...|\n",
      "|218.29830029560586| 210.5935|[5.01E-6,46.51677...|\n",
      "|218.29830029560586|212.14053|[5.07E-6,46.86019...|\n",
      "|218.29830029560586| 210.3484|[5.11E-6,46.46166...|\n",
      "|218.29830029560586|210.34984|[5.33E-6,46.46378...|\n",
      "|218.29830029560586|211.74455|[5.33E-6,46.77300...|\n",
      "|218.29830029560586|212.08739|[5.33E-6,46.85158...|\n",
      "|218.29830029560586| 210.9599|[5.36E-6,46.60118...|\n",
      "|218.29830029560586|211.47034|[5.53E-6,46.71006...|\n",
      "|218.29830029560586|211.95544|[5.66E-6,46.81931...|\n",
      "|218.29830029560586|210.93646|[5.7E-6,46.59451,...|\n",
      "|218.29830029560586|210.96025|[5.8E-6,46.599808...|\n",
      "|218.29830029560586|211.64268|[5.85E-6,46.75288...|\n",
      "|218.29830029560586|210.73196|[5.94E-6,46.55324...|\n",
      "+------------------+---------+--------------------+\n",
      "only showing top 20 rows\n",
      "\n"
     ]
    },
    {
     "name": "stderr",
     "output_type": "stream",
     "text": [
      "[Stage 23:==================================================>       (7 + 1) / 8]\r"
     ]
    },
    {
     "name": "stdout",
     "output_type": "stream",
     "text": [
      "Root Mean Squared Error (RMSE) on test data = 2.18548\n"
     ]
    },
    {
     "name": "stderr",
     "output_type": "stream",
     "text": [
      "                                                                                \r"
     ]
    }
   ],
   "source": [
    "(trainingData, testData) = finalized_data_kbest.randomSplit([0.75, 0.25] )\n",
    "\n",
    "\n",
    "random_forest_all = RandomForestRegressor(featuresCol=\"Attributes\", labelCol= 'tlml')\n",
    "\n",
    "random_forest_all = random_forest_all.fit(trainingData)\n",
    "\n",
    "predictions_rf_all = random_forest_all.transform(testData)\n",
    "\n",
    "predictions_rf_all.select(\"prediction\", \"tlml\", \"Attributes\").show()\n"
   ]
  },
  {
   "cell_type": "markdown",
   "metadata": {},
   "source": [
    "**Evaluation of Random Forest Regression**"
   ]
  },
  {
   "cell_type": "code",
   "execution_count": 29,
   "metadata": {},
   "outputs": [
    {
     "name": "stderr",
     "output_type": "stream",
     "text": [
      "[Stage 232:=======>                                                 (1 + 7) / 8]\r"
     ]
    },
    {
     "name": "stdout",
     "output_type": "stream",
     "text": [
      "Root Mean Squared Error (RMSE) on test data = 2.18548\n"
     ]
    },
    {
     "name": "stderr",
     "output_type": "stream",
     "text": [
      "                                                                                \r"
     ]
    }
   ],
   "source": [
    "evaluator_rf_all = RegressionEvaluator( labelCol = \"tlml\", predictionCol = \"prediction\", metricName = \"rmse\" )\n",
    "rmse_rf_all = evaluator_rf_all.evaluate( predictions_rf_all )\n",
    "print(\"Root Mean Squared Error (RMSE) on test data = %g\" % rmse_rf_all)"
   ]
  },
  {
   "cell_type": "markdown",
   "metadata": {},
   "source": [
    "**Gradient Boosted Tree Regression using KBest features**"
   ]
  },
  {
   "cell_type": "code",
   "execution_count": 25,
   "metadata": {},
   "outputs": [
    {
     "name": "stderr",
     "output_type": "stream",
     "text": [
      "21/12/10 15:17:29 WARN MemoryStore: Not enough space to cache rdd_117_2 in memory! (computed 12.4 MiB so far)\n",
      "21/12/10 15:17:29 WARN MemoryStore: Not enough space to cache rdd_117_1 in memory! (computed 19.6 MiB so far)\n",
      "21/12/10 15:17:29 WARN MemoryStore: Not enough space to cache rdd_117_5 in memory! (computed 19.6 MiB so far)\n",
      "21/12/10 15:17:29 WARN BlockManager: Persisting block rdd_117_1 to disk instead.\n",
      "21/12/10 15:17:29 WARN BlockManager: Persisting block rdd_117_5 to disk instead.\n",
      "21/12/10 15:17:29 WARN BlockManager: Persisting block rdd_117_2 to disk instead.\n",
      "21/12/10 15:17:29 WARN MemoryStore: Not enough space to cache rdd_117_0 in memory! (computed 19.6 MiB so far)\n",
      "21/12/10 15:17:29 WARN BlockManager: Persisting block rdd_117_0 to disk instead.\n",
      "21/12/10 15:17:32 WARN MemoryStore: Not enough space to cache rdd_140_4 in memory! (computed 2.7 MiB so far)\n",
      "21/12/10 15:17:32 WARN MemoryStore: Not enough space to cache rdd_140_7 in memory! (computed 4.0 MiB so far)\n",
      "21/12/10 15:17:32 WARN BlockManager: Persisting block rdd_140_4 to disk instead.\n",
      "21/12/10 15:17:32 WARN BlockManager: Persisting block rdd_140_7 to disk instead.\n",
      "21/12/10 15:17:32 WARN MemoryStore: Not enough space to cache rdd_140_5 in memory! (computed 6.2 MiB so far)\n",
      "21/12/10 15:17:32 WARN MemoryStore: Not enough space to cache rdd_140_0 in memory! (computed 4.0 MiB so far)\n",
      "21/12/10 15:17:32 WARN BlockManager: Persisting block rdd_140_5 to disk instead.\n",
      "21/12/10 15:17:32 WARN BlockManager: Persisting block rdd_140_0 to disk instead.\n",
      "21/12/10 15:17:32 WARN MemoryStore: Not enough space to cache rdd_140_3 in memory! (computed 6.2 MiB so far)\n",
      "21/12/10 15:17:32 WARN BlockManager: Persisting block rdd_140_3 to disk instead.\n",
      "21/12/10 15:17:32 WARN MemoryStore: Not enough space to cache rdd_140_6 in memory! (computed 2.7 MiB so far)\n",
      "21/12/10 15:17:32 WARN BlockManager: Persisting block rdd_140_6 to disk instead.\n",
      "21/12/10 15:17:38 WARN MemoryStore: Not enough space to cache rdd_137_1 in memory! (computed 13.0 MiB so far)\n",
      "21/12/10 15:17:38 WARN MemoryStore: Not enough space to cache rdd_137_3 in memory! (computed 13.0 MiB so far)\n",
      "21/12/10 15:17:38 WARN MemoryStore: Not enough space to cache rdd_137_0 in memory! (computed 13.0 MiB so far)\n",
      "21/12/10 15:17:38 WARN MemoryStore: Not enough space to cache rdd_137_4 in memory! (computed 13.0 MiB so far)\n",
      "21/12/10 15:17:39 WARN MemoryStore: Not enough space to cache rdd_159_4 in memory! (computed 3.7 MiB so far)\n",
      "21/12/10 15:17:39 WARN BlockManager: Persisting block rdd_159_4 to disk instead.\n",
      "21/12/10 15:17:39 WARN MemoryStore: Not enough space to cache rdd_159_1 in memory! (computed 5.5 MiB so far)\n",
      "21/12/10 15:17:39 WARN BlockManager: Persisting block rdd_159_1 to disk instead.\n",
      "21/12/10 15:17:39 WARN MemoryStore: Not enough space to cache rdd_162_2 in memory! (computed 6.2 MiB so far)\n",
      "21/12/10 15:17:39 WARN BlockManager: Persisting block rdd_162_2 to disk instead.\n",
      "21/12/10 15:17:39 WARN MemoryStore: Not enough space to cache rdd_159_0 in memory! (computed 8.2 MiB so far)\n",
      "21/12/10 15:17:39 WARN BlockManager: Persisting block rdd_159_0 to disk instead.\n",
      "21/12/10 15:17:39 WARN MemoryStore: Not enough space to cache rdd_159_3 in memory! (computed 5.5 MiB so far)\n",
      "21/12/10 15:17:39 WARN BlockManager: Persisting block rdd_159_3 to disk instead.\n",
      "21/12/10 15:17:39 WARN MemoryStore: Not enough space to cache rdd_159_5 in memory! (computed 3.7 MiB so far)\n",
      "21/12/10 15:17:39 WARN BlockManager: Persisting block rdd_159_5 to disk instead.\n",
      "21/12/10 15:17:39 WARN MemoryStore: Not enough space to cache rdd_162_6 in memory! (computed 10.8 MiB so far)\n",
      "21/12/10 15:17:39 WARN BlockManager: Persisting block rdd_162_6 to disk instead.\n",
      "21/12/10 15:17:39 WARN MemoryStore: Not enough space to cache rdd_159_7 in memory! (computed 5.5 MiB so far)\n",
      "21/12/10 15:17:39 WARN BlockManager: Persisting block rdd_159_7 to disk instead.\n",
      "21/12/10 15:17:39 WARN MemoryStore: Not enough space to cache rdd_159_3 in memory! (computed 13.0 MiB so far)\n",
      "21/12/10 15:17:39 WARN MemoryStore: Not enough space to cache rdd_159_1 in memory! (computed 13.0 MiB so far)\n",
      "21/12/10 15:17:39 WARN MemoryStore: Not enough space to cache rdd_159_4 in memory! (computed 13.0 MiB so far)\n",
      "21/12/10 15:17:42 WARN MemoryStore: Not enough space to cache rdd_159_6 in memory! (computed 13.0 MiB so far)\n",
      "21/12/10 15:17:42 WARN MemoryStore: Not enough space to cache rdd_159_4 in memory! (computed 8.2 MiB so far)\n",
      "21/12/10 15:17:42 WARN MemoryStore: Not enough space to cache rdd_159_1 in memory! (computed 8.2 MiB so far)\n",
      "21/12/10 15:17:43 WARN MemoryStore: Not enough space to cache rdd_181_6 in memory! (computed 13.0 MiB so far)\n",
      "21/12/10 15:17:43 WARN BlockManager: Persisting block rdd_181_6 to disk instead.\n",
      "21/12/10 15:17:43 WARN MemoryStore: Not enough space to cache rdd_181_4 in memory! (computed 13.0 MiB so far)\n",
      "21/12/10 15:17:43 WARN BlockManager: Persisting block rdd_181_4 to disk instead.\n",
      "21/12/10 15:17:43 WARN MemoryStore: Not enough space to cache rdd_181_1 in memory! (computed 13.0 MiB so far)\n",
      "21/12/10 15:17:43 WARN BlockManager: Persisting block rdd_181_1 to disk instead.\n",
      "21/12/10 15:17:43 WARN MemoryStore: Not enough space to cache rdd_181_2 in memory! (computed 3.7 MiB so far)\n",
      "21/12/10 15:17:43 WARN BlockManager: Persisting block rdd_181_2 to disk instead.\n",
      "21/12/10 15:17:43 WARN MemoryStore: Not enough space to cache rdd_181_3 in memory! (computed 3.7 MiB so far)\n",
      "21/12/10 15:17:43 WARN BlockManager: Persisting block rdd_181_3 to disk instead.\n",
      "21/12/10 15:17:43 WARN MemoryStore: Not enough space to cache rdd_184_5 in memory! (computed 10.8 MiB so far)\n",
      "21/12/10 15:17:43 WARN BlockManager: Persisting block rdd_184_5 to disk instead.\n",
      "21/12/10 15:17:43 WARN MemoryStore: Not enough space to cache rdd_184_7 in memory! (computed 10.8 MiB so far)\n",
      "21/12/10 15:17:43 WARN BlockManager: Persisting block rdd_184_7 to disk instead.\n",
      "21/12/10 15:17:48 WARN MemoryStore: Not enough space to cache rdd_181_6 in memory! (computed 13.0 MiB so far)\n",
      "21/12/10 15:17:48 WARN MemoryStore: Not enough space to cache rdd_181_4 in memory! (computed 13.0 MiB so far)\n",
      "21/12/10 15:17:48 WARN MemoryStore: Not enough space to cache rdd_181_7 in memory! (computed 13.0 MiB so far)\n",
      "21/12/10 15:17:48 WARN MemoryStore: Not enough space to cache rdd_181_0 in memory! (computed 13.0 MiB so far)\n",
      "21/12/10 15:17:48 WARN MemoryStore: Not enough space to cache rdd_203_4 in memory! (computed 5.5 MiB so far)\n",
      "21/12/10 15:17:48 WARN BlockManager: Persisting block rdd_203_4 to disk instead.\n",
      "21/12/10 15:17:48 WARN MemoryStore: Not enough space to cache rdd_206_3 in memory! (computed 6.2 MiB so far)\n",
      "21/12/10 15:17:48 WARN BlockManager: Persisting block rdd_206_3 to disk instead.\n",
      "21/12/10 15:17:48 WARN MemoryStore: Not enough space to cache rdd_206_1 in memory! (computed 6.2 MiB so far)\n",
      "21/12/10 15:17:48 WARN BlockManager: Persisting block rdd_206_1 to disk instead.\n",
      "21/12/10 15:17:48 WARN MemoryStore: Not enough space to cache rdd_203_2 in memory! (computed 1663.4 KiB so far)\n",
      "21/12/10 15:17:48 WARN BlockManager: Persisting block rdd_203_2 to disk instead.\n",
      "21/12/10 15:17:48 WARN MemoryStore: Not enough space to cache rdd_203_5 in memory! (computed 1663.4 KiB so far)\n",
      "21/12/10 15:17:48 WARN BlockManager: Persisting block rdd_203_5 to disk instead.\n",
      "21/12/10 15:17:48 WARN MemoryStore: Not enough space to cache rdd_203_0 in memory! (computed 8.2 MiB so far)\n",
      "21/12/10 15:17:48 WARN BlockManager: Persisting block rdd_203_0 to disk instead.\n",
      "21/12/10 15:17:48 WARN MemoryStore: Not enough space to cache rdd_203_6 in memory! (computed 8.2 MiB so far)\n",
      "21/12/10 15:17:48 WARN BlockManager: Persisting block rdd_203_6 to disk instead.\n",
      "21/12/10 15:17:48 WARN MemoryStore: Not enough space to cache rdd_203_7 in memory! (computed 8.2 MiB so far)\n",
      "21/12/10 15:17:48 WARN BlockManager: Persisting block rdd_203_7 to disk instead.\n",
      "21/12/10 15:17:49 WARN MemoryStore: Not enough space to cache rdd_203_4 in memory! (computed 13.0 MiB so far)\n",
      "21/12/10 15:17:49 WARN MemoryStore: Not enough space to cache rdd_203_6 in memory! (computed 13.0 MiB so far)\n",
      "21/12/10 15:17:53 WARN MemoryStore: Not enough space to cache rdd_203_7 in memory! (computed 13.0 MiB so far)\n",
      "21/12/10 15:17:53 WARN MemoryStore: Not enough space to cache rdd_203_4 in memory! (computed 13.0 MiB so far)\n",
      "21/12/10 15:17:53 WARN MemoryStore: Not enough space to cache rdd_203_1 in memory! (computed 13.0 MiB so far)\n",
      "21/12/10 15:17:53 WARN MemoryStore: Not enough space to cache rdd_203_2 in memory! (computed 13.0 MiB so far)\n",
      "21/12/10 15:17:53 WARN MemoryStore: Not enough space to cache rdd_225_4 in memory! (computed 8.2 MiB so far)\n",
      "21/12/10 15:17:53 WARN BlockManager: Persisting block rdd_225_4 to disk instead.\n",
      "21/12/10 15:17:53 WARN MemoryStore: Not enough space to cache rdd_225_3 in memory! (computed 1663.4 KiB so far)\n",
      "21/12/10 15:17:53 WARN BlockManager: Persisting block rdd_225_3 to disk instead.\n",
      "21/12/10 15:17:53 WARN MemoryStore: Not enough space to cache rdd_225_2 in memory! (computed 3.7 MiB so far)\n",
      "21/12/10 15:17:53 WARN MemoryStore: Not enough space to cache rdd_228_5 in memory! (computed 10.8 MiB so far)\n",
      "21/12/10 15:17:53 WARN BlockManager: Persisting block rdd_228_5 to disk instead.\n",
      "21/12/10 15:17:53 WARN BlockManager: Persisting block rdd_225_2 to disk instead.\n",
      "21/12/10 15:17:53 WARN MemoryStore: Not enough space to cache rdd_225_6 in memory! (computed 2.4 MiB so far)\n",
      "21/12/10 15:17:53 WARN BlockManager: Persisting block rdd_225_6 to disk instead.\n",
      "21/12/10 15:17:53 WARN MemoryStore: Not enough space to cache rdd_228_0 in memory! (computed 6.2 MiB so far)\n",
      "21/12/10 15:17:53 WARN BlockManager: Persisting block rdd_228_0 to disk instead.\n",
      "21/12/10 15:17:53 WARN MemoryStore: Not enough space to cache rdd_225_1 in memory! (computed 5.5 MiB so far)\n",
      "21/12/10 15:17:53 WARN BlockManager: Persisting block rdd_225_1 to disk instead.\n",
      "21/12/10 15:17:53 WARN MemoryStore: Not enough space to cache rdd_225_7 in memory! (computed 13.0 MiB so far)\n",
      "21/12/10 15:17:53 WARN BlockManager: Persisting block rdd_225_7 to disk instead.\n",
      "21/12/10 15:17:54 WARN MemoryStore: Not enough space to cache rdd_225_1 in memory! (computed 13.0 MiB so far)\n",
      "21/12/10 15:17:54 WARN MemoryStore: Not enough space to cache rdd_225_2 in memory! (computed 13.0 MiB so far)\n",
      "21/12/10 15:17:54 WARN MemoryStore: Not enough space to cache rdd_225_4 in memory! (computed 13.0 MiB so far)\n",
      "21/12/10 15:17:57 WARN MemoryStore: Not enough space to cache rdd_225_4 in memory! (computed 8.2 MiB so far)\n",
      "21/12/10 15:17:57 WARN MemoryStore: Not enough space to cache rdd_225_0 in memory! (computed 13.0 MiB so far)\n",
      "21/12/10 15:17:58 WARN MemoryStore: Not enough space to cache rdd_225_1 in memory! (computed 13.0 MiB so far)\n",
      "21/12/10 15:17:58 WARN MemoryStore: Not enough space to cache rdd_250_3 in memory! (computed 6.2 MiB so far)\n",
      "21/12/10 15:17:58 WARN MemoryStore: Not enough space to cache rdd_247_1 in memory! (computed 3.7 MiB so far)\n",
      "21/12/10 15:17:58 WARN MemoryStore: Not enough space to cache rdd_247_4 in memory! (computed 8.2 MiB so far)\n",
      "21/12/10 15:17:58 WARN BlockManager: Persisting block rdd_247_1 to disk instead.\n",
      "21/12/10 15:17:58 WARN BlockManager: Persisting block rdd_247_4 to disk instead.\n",
      "21/12/10 15:17:58 WARN BlockManager: Persisting block rdd_250_3 to disk instead.\n",
      "21/12/10 15:17:58 WARN MemoryStore: Not enough space to cache rdd_250_7 in memory! (computed 10.8 MiB so far)\n",
      "21/12/10 15:17:58 WARN BlockManager: Persisting block rdd_250_7 to disk instead.\n",
      "21/12/10 15:17:58 WARN MemoryStore: Not enough space to cache rdd_247_2 in memory! (computed 1663.4 KiB so far)\n",
      "21/12/10 15:17:58 WARN BlockManager: Persisting block rdd_247_2 to disk instead.\n",
      "21/12/10 15:17:58 WARN MemoryStore: Not enough space to cache rdd_247_0 in memory! (computed 8.2 MiB so far)\n",
      "21/12/10 15:17:58 WARN BlockManager: Persisting block rdd_247_0 to disk instead.\n",
      "21/12/10 15:17:58 WARN MemoryStore: Not enough space to cache rdd_247_5 in memory! (computed 2.4 MiB so far)\n",
      "21/12/10 15:17:58 WARN BlockManager: Persisting block rdd_247_5 to disk instead.\n",
      "21/12/10 15:18:03 WARN MemoryStore: Not enough space to cache rdd_247_5 in memory! (computed 13.0 MiB so far)\n",
      "21/12/10 15:18:03 WARN MemoryStore: Not enough space to cache rdd_247_1 in memory! (computed 13.0 MiB so far)\n",
      "21/12/10 15:18:03 WARN MemoryStore: Not enough space to cache rdd_272_0 in memory! (computed 4.0 MiB so far)\n",
      "21/12/10 15:18:03 WARN BlockManager: Persisting block rdd_272_0 to disk instead.\n",
      "21/12/10 15:18:03 WARN MemoryStore: Not enough space to cache rdd_269_1 in memory! (computed 2.4 MiB so far)\n",
      "21/12/10 15:18:03 WARN BlockManager: Persisting block rdd_269_1 to disk instead.\n",
      "21/12/10 15:18:03 WARN MemoryStore: Not enough space to cache rdd_269_2 in memory! (computed 3.7 MiB so far)\n",
      "21/12/10 15:18:03 WARN BlockManager: Persisting block rdd_269_2 to disk instead.\n",
      "21/12/10 15:18:03 WARN MemoryStore: Not enough space to cache rdd_269_3 in memory! (computed 3.7 MiB so far)\n",
      "21/12/10 15:18:03 WARN BlockManager: Persisting block rdd_269_3 to disk instead.\n",
      "21/12/10 15:18:03 WARN MemoryStore: Not enough space to cache rdd_269_6 in memory! (computed 3.7 MiB so far)\n",
      "21/12/10 15:18:03 WARN BlockManager: Persisting block rdd_269_6 to disk instead.\n",
      "21/12/10 15:18:03 WARN MemoryStore: Not enough space to cache rdd_269_5 in memory! (computed 13.0 MiB so far)\n",
      "21/12/10 15:18:03 WARN BlockManager: Persisting block rdd_269_5 to disk instead.\n",
      "21/12/10 15:18:03 WARN MemoryStore: Not enough space to cache rdd_269_7 in memory! (computed 13.0 MiB so far)\n",
      "21/12/10 15:18:03 WARN BlockManager: Persisting block rdd_269_7 to disk instead.\n",
      "21/12/10 15:18:09 WARN MemoryStore: Not enough space to cache rdd_291_6 in memory! (computed 13.0 MiB so far)\n",
      "21/12/10 15:18:09 WARN MemoryStore: Not enough space to cache rdd_269_7 in memory! (computed 8.2 MiB so far)\n",
      "21/12/10 15:18:09 WARN MemoryStore: Not enough space to cache rdd_269_4 in memory! (computed 13.0 MiB so far)\n",
      "21/12/10 15:18:09 WARN BlockManager: Persisting block rdd_291_6 to disk instead.\n",
      "21/12/10 15:18:09 WARN MemoryStore: Not enough space to cache rdd_269_0 in memory! (computed 13.0 MiB so far)\n",
      "21/12/10 15:18:09 WARN MemoryStore: Not enough space to cache rdd_291_4 in memory! (computed 5.5 MiB so far)\n",
      "21/12/10 15:18:09 WARN BlockManager: Persisting block rdd_291_4 to disk instead.\n",
      "21/12/10 15:18:09 WARN MemoryStore: Not enough space to cache rdd_294_2 in memory! (computed 4.0 MiB so far)\n",
      "21/12/10 15:18:09 WARN BlockManager: Persisting block rdd_294_2 to disk instead.\n",
      "21/12/10 15:18:09 WARN MemoryStore: Not enough space to cache rdd_291_7 in memory! (computed 5.5 MiB so far)\n",
      "21/12/10 15:18:09 WARN BlockManager: Persisting block rdd_291_7 to disk instead.\n",
      "21/12/10 15:18:09 WARN MemoryStore: Not enough space to cache rdd_294_1 in memory! (computed 4.0 MiB so far)\n",
      "21/12/10 15:18:09 WARN BlockManager: Persisting block rdd_294_1 to disk instead.\n",
      "21/12/10 15:18:09 WARN MemoryStore: Not enough space to cache rdd_291_0 in memory! (computed 8.2 MiB so far)\n",
      "21/12/10 15:18:09 WARN BlockManager: Persisting block rdd_291_0 to disk instead.\n",
      "21/12/10 15:18:14 WARN MemoryStore: Not enough space to cache rdd_291_1 in memory! (computed 8.2 MiB so far)\n",
      "21/12/10 15:18:14 WARN MemoryStore: Not enough space to cache rdd_291_5 in memory! (computed 13.0 MiB so far)\n",
      "21/12/10 15:18:14 WARN MemoryStore: Not enough space to cache rdd_291_6 in memory! (computed 13.0 MiB so far)\n",
      "21/12/10 15:18:14 WARN MemoryStore: Not enough space to cache rdd_291_3 in memory! (computed 13.0 MiB so far)\n",
      "21/12/10 15:18:14 WARN MemoryStore: Not enough space to cache rdd_313_3 in memory! (computed 3.7 MiB so far)\n",
      "21/12/10 15:18:14 WARN BlockManager: Persisting block rdd_313_3 to disk instead.\n",
      "21/12/10 15:18:14 WARN MemoryStore: Not enough space to cache rdd_313_6 in memory! (computed 2.4 MiB so far)\n",
      "21/12/10 15:18:14 WARN BlockManager: Persisting block rdd_313_6 to disk instead.\n",
      "21/12/10 15:18:14 WARN MemoryStore: Not enough space to cache rdd_316_4 in memory! (computed 6.2 MiB so far)\n",
      "21/12/10 15:18:14 WARN BlockManager: Persisting block rdd_316_4 to disk instead.\n",
      "21/12/10 15:18:14 WARN MemoryStore: Not enough space to cache rdd_316_0 in memory! (computed 6.2 MiB so far)\n",
      "21/12/10 15:18:14 WARN BlockManager: Persisting block rdd_316_0 to disk instead.\n",
      "21/12/10 15:18:14 WARN MemoryStore: Not enough space to cache rdd_316_7 in memory! (computed 10.8 MiB so far)\n",
      "21/12/10 15:18:14 WARN BlockManager: Persisting block rdd_316_7 to disk instead.\n",
      "21/12/10 15:18:14 WARN MemoryStore: Not enough space to cache rdd_313_5 in memory! (computed 13.0 MiB so far)\n",
      "21/12/10 15:18:14 WARN BlockManager: Persisting block rdd_313_5 to disk instead.\n",
      "21/12/10 15:18:20 WARN MemoryStore: Not enough space to cache rdd_335_3 in memory! (computed 13.0 MiB so far)\n",
      "21/12/10 15:18:20 WARN BlockManager: Persisting block rdd_335_3 to disk instead.\n",
      "21/12/10 15:18:20 WARN MemoryStore: Not enough space to cache rdd_313_4 in memory! (computed 8.2 MiB so far)\n",
      "21/12/10 15:18:20 WARN MemoryStore: Not enough space to cache rdd_313_0 in memory! (computed 13.0 MiB so far)\n",
      "21/12/10 15:18:20 WARN MemoryStore: Not enough space to cache rdd_313_2 in memory! (computed 13.0 MiB so far)\n",
      "21/12/10 15:18:20 WARN MemoryStore: Not enough space to cache rdd_313_1 in memory! (computed 13.0 MiB so far)\n",
      "21/12/10 15:18:20 WARN MemoryStore: Not enough space to cache rdd_313_7 in memory! (computed 13.0 MiB so far)\n",
      "21/12/10 15:18:21 WARN MemoryStore: Not enough space to cache rdd_338_6 in memory! (computed 4.0 MiB so far)\n",
      "21/12/10 15:18:21 WARN BlockManager: Persisting block rdd_338_6 to disk instead.\n",
      "21/12/10 15:18:21 WARN MemoryStore: Not enough space to cache rdd_335_7 in memory! (computed 5.5 MiB so far)\n",
      "21/12/10 15:18:21 WARN BlockManager: Persisting block rdd_335_7 to disk instead.\n",
      "21/12/10 15:18:21 WARN MemoryStore: Not enough space to cache rdd_335_4 in memory! (computed 8.2 MiB so far)\n",
      "21/12/10 15:18:21 WARN BlockManager: Persisting block rdd_335_4 to disk instead.\n",
      "21/12/10 15:18:21 WARN MemoryStore: Not enough space to cache rdd_335_0 in memory! (computed 5.5 MiB so far)\n",
      "21/12/10 15:18:21 WARN BlockManager: Persisting block rdd_335_0 to disk instead.\n",
      "21/12/10 15:18:21 WARN MemoryStore: Not enough space to cache rdd_335_2 in memory! (computed 8.2 MiB so far)\n",
      "21/12/10 15:18:21 WARN BlockManager: Persisting block rdd_335_2 to disk instead.\n",
      "21/12/10 15:18:21 WARN MemoryStore: Not enough space to cache rdd_335_1 in memory! (computed 8.2 MiB so far)\n",
      "21/12/10 15:18:21 WARN BlockManager: Persisting block rdd_335_1 to disk instead.\n",
      "21/12/10 15:18:21 WARN MemoryStore: Not enough space to cache rdd_338_5 in memory! (computed 10.8 MiB so far)\n",
      "21/12/10 15:18:21 WARN BlockManager: Persisting block rdd_338_5 to disk instead.\n",
      "21/12/10 15:18:22 WARN MemoryStore: Not enough space to cache rdd_335_1 in memory! (computed 13.0 MiB so far)\n",
      "21/12/10 15:18:22 WARN MemoryStore: Not enough space to cache rdd_335_4 in memory! (computed 8.2 MiB so far)\n",
      "21/12/10 15:18:25 WARN MemoryStore: Not enough space to cache rdd_335_1 in memory! (computed 13.0 MiB so far)\n",
      "21/12/10 15:18:25 WARN MemoryStore: Not enough space to cache rdd_335_5 in memory! (computed 13.0 MiB so far)\n",
      "21/12/10 15:18:25 WARN MemoryStore: Not enough space to cache rdd_335_6 in memory! (computed 13.0 MiB so far)\n",
      "21/12/10 15:18:25 WARN MemoryStore: Not enough space to cache rdd_335_4 in memory! (computed 13.0 MiB so far)\n",
      "21/12/10 15:18:25 WARN MemoryStore: Not enough space to cache rdd_357_4 in memory! (computed 5.5 MiB so far)\n",
      "21/12/10 15:18:25 WARN BlockManager: Persisting block rdd_357_4 to disk instead.\n",
      "21/12/10 15:18:25 WARN MemoryStore: Not enough space to cache rdd_357_5 in memory! (computed 8.2 MiB so far)\n",
      "21/12/10 15:18:25 WARN BlockManager: Persisting block rdd_357_5 to disk instead.\n",
      "21/12/10 15:18:25 WARN MemoryStore: Not enough space to cache rdd_357_6 in memory! (computed 8.2 MiB so far)\n",
      "21/12/10 15:18:25 WARN BlockManager: Persisting block rdd_357_6 to disk instead.\n",
      "21/12/10 15:18:25 WARN MemoryStore: Not enough space to cache rdd_360_2 in memory! (computed 6.2 MiB so far)\n",
      "21/12/10 15:18:25 WARN BlockManager: Persisting block rdd_360_2 to disk instead.\n",
      "21/12/10 15:18:25 WARN MemoryStore: Not enough space to cache rdd_360_0 in memory! (computed 6.2 MiB so far)\n",
      "21/12/10 15:18:25 WARN BlockManager: Persisting block rdd_360_0 to disk instead.\n",
      "21/12/10 15:18:25 WARN MemoryStore: Not enough space to cache rdd_357_7 in memory! (computed 3.7 MiB so far)\n",
      "21/12/10 15:18:25 WARN BlockManager: Persisting block rdd_357_7 to disk instead.\n",
      "21/12/10 15:18:25 WARN MemoryStore: Not enough space to cache rdd_357_3 in memory! (computed 1663.4 KiB so far)\n",
      "21/12/10 15:18:25 WARN BlockManager: Persisting block rdd_357_3 to disk instead.\n",
      "21/12/10 15:18:25 WARN MemoryStore: Not enough space to cache rdd_357_1 in memory! (computed 8.2 MiB so far)\n",
      "21/12/10 15:18:25 WARN BlockManager: Persisting block rdd_357_1 to disk instead.\n",
      "21/12/10 15:18:26 WARN MemoryStore: Not enough space to cache rdd_357_4 in memory! (computed 13.0 MiB so far)\n",
      "21/12/10 15:18:29 WARN MemoryStore: Not enough space to cache rdd_357_7 in memory! (computed 8.2 MiB so far)\n",
      "21/12/10 15:18:29 WARN MemoryStore: Failed to reserve initial memory threshold of 1024.0 KiB for computing block rdd_379_7 in memory.\n",
      "21/12/10 15:18:29 WARN MemoryStore: Not enough space to cache rdd_379_7 in memory! (computed 384.0 B so far)\n",
      "21/12/10 15:18:29 WARN BlockManager: Persisting block rdd_379_7 to disk instead.\n",
      "21/12/10 15:18:29 WARN MemoryStore: Not enough space to cache rdd_357_6 in memory! (computed 8.2 MiB so far)\n",
      "21/12/10 15:18:29 WARN MemoryStore: Failed to reserve initial memory threshold of 1024.0 KiB for computing block rdd_379_6 in memory.\n",
      "21/12/10 15:18:29 WARN MemoryStore: Not enough space to cache rdd_379_6 in memory! (computed 384.0 B so far)\n",
      "21/12/10 15:18:29 WARN BlockManager: Persisting block rdd_379_6 to disk instead.\n",
      "21/12/10 15:18:29 WARN MemoryStore: Not enough space to cache rdd_357_0 in memory! (computed 13.0 MiB so far)\n",
      "21/12/10 15:18:29 WARN MemoryStore: Not enough space to cache rdd_357_4 in memory! (computed 13.0 MiB so far)\n",
      "21/12/10 15:18:29 WARN MemoryStore: Not enough space to cache rdd_357_2 in memory! (computed 13.0 MiB so far)\n",
      "21/12/10 15:18:30 WARN MemoryStore: Not enough space to cache rdd_382_5 in memory! (computed 10.8 MiB so far)\n",
      "21/12/10 15:18:30 WARN BlockManager: Persisting block rdd_382_5 to disk instead.\n",
      "21/12/10 15:18:30 WARN MemoryStore: Not enough space to cache rdd_379_4 in memory! (computed 13.0 MiB so far)\n",
      "21/12/10 15:18:30 WARN BlockManager: Persisting block rdd_379_4 to disk instead.\n",
      "21/12/10 15:18:35 WARN MemoryStore: Not enough space to cache rdd_379_3 in memory! (computed 13.0 MiB so far)\n",
      "21/12/10 15:18:35 WARN MemoryStore: Not enough space to cache rdd_379_1 in memory! (computed 13.0 MiB so far)\n",
      "21/12/10 15:18:35 WARN MemoryStore: Not enough space to cache rdd_379_2 in memory! (computed 8.2 MiB so far)\n",
      "21/12/10 15:18:35 WARN MemoryStore: Not enough space to cache rdd_379_0 in memory! (computed 13.0 MiB so far)\n",
      "21/12/10 15:18:35 WARN MemoryStore: Not enough space to cache rdd_401_0 in memory! (computed 5.5 MiB so far)\n",
      "21/12/10 15:18:35 WARN BlockManager: Persisting block rdd_401_0 to disk instead.\n",
      "21/12/10 15:18:35 WARN MemoryStore: Not enough space to cache rdd_401_3 in memory! (computed 8.2 MiB so far)\n",
      "21/12/10 15:18:35 WARN BlockManager: Persisting block rdd_401_3 to disk instead.\n",
      "21/12/10 15:18:35 WARN MemoryStore: Not enough space to cache rdd_404_6 in memory! (computed 6.2 MiB so far)\n",
      "21/12/10 15:18:35 WARN BlockManager: Persisting block rdd_404_6 to disk instead.\n",
      "21/12/10 15:18:35 WARN MemoryStore: Not enough space to cache rdd_401_1 in memory! (computed 8.2 MiB so far)\n",
      "21/12/10 15:18:35 WARN BlockManager: Persisting block rdd_401_1 to disk instead.\n",
      "21/12/10 15:18:35 WARN MemoryStore: Not enough space to cache rdd_404_7 in memory! (computed 6.2 MiB so far)\n",
      "21/12/10 15:18:35 WARN BlockManager: Persisting block rdd_404_7 to disk instead.\n",
      "21/12/10 15:18:35 WARN MemoryStore: Not enough space to cache rdd_404_4 in memory! (computed 6.2 MiB so far)\n",
      "21/12/10 15:18:35 WARN BlockManager: Persisting block rdd_404_4 to disk instead.\n",
      "21/12/10 15:18:35 WARN MemoryStore: Not enough space to cache rdd_401_2 in memory! (computed 8.2 MiB so far)\n",
      "21/12/10 15:18:35 WARN BlockManager: Persisting block rdd_401_2 to disk instead.\n",
      "21/12/10 15:18:41 WARN MemoryStore: Not enough space to cache rdd_401_5 in memory! (computed 8.2 MiB so far)\n",
      "21/12/10 15:18:41 WARN MemoryStore: Not enough space to cache rdd_401_7 in memory! (computed 8.2 MiB so far)\n",
      "21/12/10 15:18:41 WARN MemoryStore: Not enough space to cache rdd_401_6 in memory! (computed 13.0 MiB so far)\n",
      "21/12/10 15:18:41 WARN MemoryStore: Not enough space to cache rdd_401_0 in memory! (computed 13.0 MiB so far)\n",
      "21/12/10 15:18:41 WARN MemoryStore: Not enough space to cache rdd_401_4 in memory! (computed 8.2 MiB so far)\n",
      "21/12/10 15:18:41 WARN MemoryStore: Not enough space to cache rdd_423_7 in memory! (computed 1035.4 KiB so far)\n",
      "21/12/10 15:18:41 WARN BlockManager: Persisting block rdd_423_7 to disk instead.\n",
      "21/12/10 15:18:41 WARN MemoryStore: Failed to reserve initial memory threshold of 1024.0 KiB for computing block rdd_423_4 in memory.\n",
      "21/12/10 15:18:41 WARN MemoryStore: Not enough space to cache rdd_423_4 in memory! (computed 384.0 B so far)\n",
      "21/12/10 15:18:41 WARN BlockManager: Persisting block rdd_423_4 to disk instead.\n",
      "21/12/10 15:18:41 WARN MemoryStore: Not enough space to cache rdd_423_6 in memory! (computed 1035.4 KiB so far)\n",
      "21/12/10 15:18:41 WARN BlockManager: Persisting block rdd_423_6 to disk instead.\n",
      "21/12/10 15:18:41 WARN MemoryStore: Not enough space to cache rdd_423_0 in memory! (computed 1035.4 KiB so far)\n",
      "21/12/10 15:18:41 WARN BlockManager: Persisting block rdd_423_0 to disk instead.\n",
      "21/12/10 15:18:46 WARN MemoryStore: Not enough space to cache rdd_423_3 in memory! (computed 8.2 MiB so far)\n",
      "21/12/10 15:18:46 WARN MemoryStore: Not enough space to cache rdd_423_2 in memory! (computed 8.2 MiB so far)\n",
      "21/12/10 15:18:47 WARN MemoryStore: Not enough space to cache rdd_423_1 in memory! (computed 8.2 MiB so far)\n",
      "21/12/10 15:18:47 WARN MemoryStore: Not enough space to cache rdd_445_2 in memory! (computed 1035.4 KiB so far)\n",
      "21/12/10 15:18:47 WARN BlockManager: Persisting block rdd_445_2 to disk instead.\n",
      "21/12/10 15:18:47 WARN MemoryStore: Not enough space to cache rdd_445_3 in memory! (computed 1663.4 KiB so far)\n",
      "21/12/10 15:18:47 WARN BlockManager: Persisting block rdd_445_3 to disk instead.\n",
      "21/12/10 15:18:47 WARN MemoryStore: Not enough space to cache rdd_423_7 in memory! (computed 13.0 MiB so far)\n",
      "21/12/10 15:18:47 WARN MemoryStore: Not enough space to cache rdd_423_5 in memory! (computed 13.0 MiB so far)\n",
      "21/12/10 15:18:52 WARN MemoryStore: Not enough space to cache rdd_445_7 in memory! (computed 8.2 MiB so far)\n",
      "21/12/10 15:18:52 WARN MemoryStore: Not enough space to cache rdd_445_4 in memory! (computed 8.2 MiB so far)\n",
      "21/12/10 15:18:52 WARN MemoryStore: Not enough space to cache rdd_445_0 in memory! (computed 8.2 MiB so far)\n",
      "21/12/10 15:18:52 WARN MemoryStore: Not enough space to cache rdd_445_5 in memory! (computed 13.0 MiB so far)\n",
      "21/12/10 15:18:53 WARN MemoryStore: Not enough space to cache rdd_467_5 in memory! (computed 13.0 MiB so far)\n",
      "21/12/10 15:18:53 WARN BlockManager: Persisting block rdd_467_5 to disk instead.\n",
      "21/12/10 15:18:53 WARN MemoryStore: Not enough space to cache rdd_470_2 in memory! (computed 10.8 MiB so far)\n",
      "21/12/10 15:18:53 WARN MemoryStore: Not enough space to cache rdd_470_3 in memory! (computed 10.8 MiB so far)\n",
      "21/12/10 15:18:53 WARN BlockManager: Persisting block rdd_470_2 to disk instead.\n",
      "21/12/10 15:18:53 WARN BlockManager: Persisting block rdd_470_3 to disk instead.\n",
      "21/12/10 15:18:53 WARN MemoryStore: Not enough space to cache rdd_467_6 in memory! (computed 3.7 MiB so far)\n",
      "21/12/10 15:18:53 WARN BlockManager: Persisting block rdd_467_6 to disk instead.\n",
      "21/12/10 15:18:53 WARN MemoryStore: Not enough space to cache rdd_467_4 in memory! (computed 13.0 MiB so far)\n",
      "21/12/10 15:18:53 WARN BlockManager: Persisting block rdd_467_4 to disk instead.\n",
      "21/12/10 15:18:53 WARN MemoryStore: Not enough space to cache rdd_467_0 in memory! (computed 13.0 MiB so far)\n",
      "21/12/10 15:18:53 WARN BlockManager: Persisting block rdd_467_0 to disk instead.\n",
      "21/12/10 15:18:58 WARN MemoryStore: Not enough space to cache rdd_467_1 in memory! (computed 13.0 MiB so far)\n",
      "21/12/10 15:18:58 WARN MemoryStore: Not enough space to cache rdd_467_7 in memory! (computed 13.0 MiB so far)\n",
      "21/12/10 15:18:58 WARN MemoryStore: Not enough space to cache rdd_467_6 in memory! (computed 13.0 MiB so far)\n",
      "21/12/10 15:18:58 WARN MemoryStore: Not enough space to cache rdd_492_4 in memory! (computed 10.8 MiB so far)\n",
      "21/12/10 15:18:58 WARN BlockManager: Persisting block rdd_492_4 to disk instead.\n",
      "21/12/10 15:18:58 WARN MemoryStore: Not enough space to cache rdd_489_5 in memory! (computed 1663.4 KiB so far)\n",
      "21/12/10 15:18:58 WARN BlockManager: Persisting block rdd_489_5 to disk instead.\n",
      "21/12/10 15:18:58 WARN MemoryStore: Not enough space to cache rdd_489_1 in memory! (computed 8.2 MiB so far)\n",
      "21/12/10 15:18:58 WARN BlockManager: Persisting block rdd_489_1 to disk instead.\n",
      "21/12/10 15:18:58 WARN MemoryStore: Not enough space to cache rdd_489_3 in memory! (computed 2.4 MiB so far)\n",
      "21/12/10 15:18:58 WARN BlockManager: Persisting block rdd_489_3 to disk instead.\n",
      "21/12/10 15:18:58 WARN MemoryStore: Not enough space to cache rdd_489_7 in memory! (computed 5.5 MiB so far)\n",
      "21/12/10 15:18:58 WARN BlockManager: Persisting block rdd_489_7 to disk instead.\n",
      "21/12/10 15:18:58 WARN MemoryStore: Not enough space to cache rdd_489_6 in memory! (computed 5.5 MiB so far)\n",
      "21/12/10 15:18:58 WARN BlockManager: Persisting block rdd_489_6 to disk instead.\n",
      "21/12/10 15:18:59 WARN MemoryStore: Not enough space to cache rdd_492_0 in memory! (computed 6.2 MiB so far)\n",
      "21/12/10 15:18:59 WARN BlockManager: Persisting block rdd_492_0 to disk instead.\n",
      "21/12/10 15:19:03 WARN MemoryStore: Not enough space to cache rdd_489_0 in memory! (computed 13.0 MiB so far)\n",
      "21/12/10 15:19:03 WARN MemoryStore: Not enough space to cache rdd_489_4 in memory! (computed 13.0 MiB so far)\n",
      "21/12/10 15:19:03 WARN MemoryStore: Not enough space to cache rdd_489_7 in memory! (computed 8.2 MiB so far)\n",
      "21/12/10 15:19:03 WARN MemoryStore: Not enough space to cache rdd_514_6 in memory! (computed 6.2 MiB so far)\n",
      "21/12/10 15:19:03 WARN BlockManager: Persisting block rdd_514_6 to disk instead.\n",
      "21/12/10 15:19:04 WARN MemoryStore: Not enough space to cache rdd_511_4 in memory! (computed 5.5 MiB so far)\n",
      "21/12/10 15:19:04 WARN BlockManager: Persisting block rdd_511_4 to disk instead.\n",
      "21/12/10 15:19:04 WARN MemoryStore: Not enough space to cache rdd_511_7 in memory! (computed 5.5 MiB so far)\n",
      "21/12/10 15:19:04 WARN BlockManager: Persisting block rdd_511_7 to disk instead.\n",
      "21/12/10 15:19:04 WARN MemoryStore: Not enough space to cache rdd_511_2 in memory! (computed 1663.4 KiB so far)\n",
      "21/12/10 15:19:04 WARN BlockManager: Persisting block rdd_511_2 to disk instead.\n",
      "21/12/10 15:19:04 WARN MemoryStore: Not enough space to cache rdd_514_1 in memory! (computed 6.2 MiB so far)\n",
      "21/12/10 15:19:04 WARN MemoryStore: Not enough space to cache rdd_511_0 in memory! (computed 8.2 MiB so far)\n",
      "21/12/10 15:19:04 WARN BlockManager: Persisting block rdd_514_1 to disk instead.\n",
      "21/12/10 15:19:04 WARN BlockManager: Persisting block rdd_511_0 to disk instead.\n",
      "21/12/10 15:19:04 WARN MemoryStore: Not enough space to cache rdd_514_3 in memory! (computed 10.8 MiB so far)\n",
      "21/12/10 15:19:04 WARN BlockManager: Persisting block rdd_514_3 to disk instead.\n",
      "21/12/10 15:19:09 WARN MemoryStore: Not enough space to cache rdd_511_1 in memory! (computed 13.0 MiB so far)\n",
      "21/12/10 15:19:09 WARN MemoryStore: Not enough space to cache rdd_511_5 in memory! (computed 13.0 MiB so far)\n",
      "21/12/10 15:19:09 WARN MemoryStore: Not enough space to cache rdd_511_3 in memory! (computed 8.2 MiB so far)\n",
      "21/12/10 15:19:09 WARN MemoryStore: Not enough space to cache rdd_533_3 in memory! (computed 2.4 MiB so far)\n",
      "21/12/10 15:19:09 WARN BlockManager: Persisting block rdd_533_3 to disk instead.\n",
      "21/12/10 15:19:09 WARN MemoryStore: Not enough space to cache rdd_533_5 in memory! (computed 5.5 MiB so far)\n",
      "21/12/10 15:19:09 WARN BlockManager: Persisting block rdd_533_5 to disk instead.\n",
      "21/12/10 15:19:09 WARN MemoryStore: Not enough space to cache rdd_536_0 in memory! (computed 6.2 MiB so far)\n",
      "21/12/10 15:19:09 WARN BlockManager: Persisting block rdd_536_0 to disk instead.\n",
      "21/12/10 15:19:09 WARN MemoryStore: Not enough space to cache rdd_536_7 in memory! (computed 10.8 MiB so far)\n",
      "21/12/10 15:19:09 WARN MemoryStore: Not enough space to cache rdd_536_4 in memory! (computed 10.8 MiB so far)\n",
      "21/12/10 15:19:09 WARN BlockManager: Persisting block rdd_536_7 to disk instead.\n",
      "21/12/10 15:19:09 WARN BlockManager: Persisting block rdd_536_4 to disk instead.\n",
      "21/12/10 15:19:10 WARN MemoryStore: Not enough space to cache rdd_533_1 in memory! (computed 13.0 MiB so far)\n",
      "21/12/10 15:19:10 WARN BlockManager: Persisting block rdd_533_1 to disk instead.\n",
      "21/12/10 15:19:10 WARN MemoryStore: Not enough space to cache rdd_533_2 in memory! (computed 13.0 MiB so far)\n",
      "21/12/10 15:19:10 WARN BlockManager: Persisting block rdd_533_2 to disk instead.\n",
      "21/12/10 15:19:10 WARN MemoryStore: Not enough space to cache rdd_533_6 in memory! (computed 13.0 MiB so far)\n",
      "21/12/10 15:19:10 WARN BlockManager: Persisting block rdd_533_6 to disk instead.\n",
      "[Stage 229:>                                                        (0 + 1) / 1]\r"
     ]
    },
    {
     "name": "stdout",
     "output_type": "stream",
     "text": [
      "+--------------------+---------+------------------+\n",
      "|          Attributes|     tlml|        prediction|\n",
      "+--------------------+---------+------------------+\n",
      "|[4.69E-6,46.45361...| 210.3062|218.10996159488855|\n",
      "|[4.71E-6,46.51388...|210.57622|218.10996159488855|\n",
      "|[4.75E-6,46.43315...|210.21051|218.10996159488855|\n",
      "|[4.86E-6,46.62463...|211.05963|218.10996159488855|\n",
      "|[5.0E-6,46.63298,...|211.09738|218.10996159488855|\n",
      "|[5.07E-6,46.49131...|210.46935|218.10996159488855|\n",
      "|[5.07E-6,46.86019...|212.14053|218.10996159488855|\n",
      "|[5.09E-6,46.75339...|211.65768|218.10996159488855|\n",
      "|[5.11E-6,46.49336...|210.48387|218.10996159488855|\n",
      "|[5.21E-6,46.62378...|211.08138|218.10996159488855|\n",
      "|[5.26E-6,46.47335...|210.39044|218.10996159488855|\n",
      "|[5.4E-6,46.67138,...|211.27113|218.10996159488855|\n",
      "|[5.44E-6,46.96546...|212.61775|218.10996159488855|\n",
      "|[5.56E-6,46.46236...|210.34253|218.10996159488855|\n",
      "|[5.61E-6,46.89381...|212.29187|218.10996159488855|\n",
      "|[5.68E-6,46.47651...|210.40468|218.10996159488855|\n",
      "|[5.7E-6,47.029747...|212.91159|218.10996159488855|\n",
      "|[5.77E-6,46.46319...|210.34767|218.10996159488855|\n",
      "|[5.8E-6,46.712803...| 211.4586|218.10996159488855|\n",
      "|[5.94E-6,47.09063...|213.19092|218.10996159488855|\n",
      "+--------------------+---------+------------------+\n",
      "only showing top 20 rows\n",
      "\n"
     ]
    },
    {
     "name": "stderr",
     "output_type": "stream",
     "text": [
      "                                                                                \r"
     ]
    }
   ],
   "source": [
    "train_data,test_data = finalized_data_kbest.randomSplit([0.75,0.25])\n",
    "\n",
    "target= 'tlml'\n",
    "\n",
    "gbt = GBTRegressor(featuresCol = 'Attributes', labelCol=target)\n",
    "model = gbt.fit(train_data)\n",
    "yhat = model.transform(test_data)\n",
    "yhat.show()\n"
   ]
  },
  {
   "cell_type": "markdown",
   "metadata": {},
   "source": [
    "**Evaluation of Gradient Boosted Tree Regression**"
   ]
  },
  {
   "cell_type": "code",
   "execution_count": 26,
   "metadata": {},
   "outputs": [
    {
     "name": "stderr",
     "output_type": "stream",
     "text": [
      "[Stage 230:=======>                                                 (1 + 7) / 8]\r"
     ]
    },
    {
     "name": "stdout",
     "output_type": "stream",
     "text": [
      "Root Mean Squared Error (RMSE) on test data = 1.17847\n"
     ]
    },
    {
     "name": "stderr",
     "output_type": "stream",
     "text": [
      "                                                                                \r"
     ]
    }
   ],
   "source": [
    "evaluator = RegressionEvaluator(\n",
    "    labelCol=\"tlml\", predictionCol=\"prediction\", metricName=\"rmse\")\n",
    "rmse = evaluator.evaluate(yhat)\n",
    "print(\"Root Mean Squared Error (RMSE) on test data = %g\" % rmse)"
   ]
  },
  {
   "cell_type": "markdown",
   "metadata": {},
   "source": [
    "**Calculation of Coefficient and Intercept**"
   ]
  },
  {
   "cell_type": "code",
   "execution_count": 17,
   "metadata": {},
   "outputs": [],
   "source": [
    "def coefficient_and_intercept(regressor):\n",
    "    coeff = regressor.coefficients\n",
    "    intr = regressor.intercept\n",
    "    print (\"The coefficient of the model is : %a\" %coeff)\n",
    "    print (\"The Intercept of the model is : %f\" %intr)"
   ]
  },
  {
   "cell_type": "markdown",
   "metadata": {},
   "source": [
    "**Linear Regression with kbest attributes as features**"
   ]
  },
  {
   "cell_type": "code",
   "execution_count": 19,
   "metadata": {},
   "outputs": [
    {
     "name": "stdout",
     "output_type": "stream",
     "text": [
      "The coefficient of the model is : DenseVector([-186.4341, 4.5252, -0.0])\n",
      "The Intercept of the model is : 0.875425\n"
     ]
    }
   ],
   "source": [
    "coefficient_and_intercept(regressor_kbest)"
   ]
  },
  {
   "cell_type": "markdown",
   "metadata": {},
   "source": [
    "**Function for Evaluation of Regression Models in Pyspark**"
   ]
  },
  {
   "cell_type": "code",
   "execution_count": 21,
   "metadata": {},
   "outputs": [],
   "source": [
    "def EvaluationMetrics( trainingSummary):\n",
    "    print(\"MSE: %f\" % trainingSummary.meanSquaredError)\n",
    "    print(\"RMSE: %f\" % trainingSummary.rootMeanSquaredError)\n",
    "    print(\"r2: %f\" % trainingSummary.r2)\n",
    "    print(\"MAE: %f\" % trainingSummary.meanAbsoluteError)\n",
    "    print(\"Explained variance = %s\" % trainingSummary.explainedVariance)"
   ]
  },
  {
   "cell_type": "markdown",
   "metadata": {},
   "source": [
    "**Linear Regression with kbest attributes as features**"
   ]
  },
  {
   "cell_type": "code",
   "execution_count": 23,
   "metadata": {},
   "outputs": [
    {
     "name": "stdout",
     "output_type": "stream",
     "text": [
      "MSE: 0.000752\n",
      "RMSE: 0.027418\n",
      "r2: 0.999998\n",
      "MAE: 0.019373\n",
      "Explained variance = 399.184981679027\n"
     ]
    }
   ],
   "source": [
    "EvaluationMetrics( regressor_kbest.summary )"
   ]
  },
  {
   "cell_type": "markdown",
   "metadata": {},
   "source": [
    "**Bayesian Ridge Regression using sklearn**"
   ]
  },
  {
   "cell_type": "code",
   "execution_count": 27,
   "metadata": {},
   "outputs": [
    {
     "name": "stderr",
     "output_type": "stream",
     "text": [
      "/home/abhi/.local/lib/python3.8/site-packages/sklearn/utils/validation.py:985: DataConversionWarning: A column-vector y was passed when a 1d array was expected. Please change the shape of y to (n_samples, ), for example using ravel().\n",
      "  y = column_or_1d(y, warn=True)\n"
     ]
    },
    {
     "name": "stdout",
     "output_type": "stream",
     "text": [
      "Evaluation for Bayesian Ridge Regression\n",
      "r2 Score Of Test Set : 0.9999983412386868\n",
      "MSE Of Test Set : 0.0007042312240204884\n",
      "RMSE Of Test Set : 0.02653735525670349\n",
      "MAE Of Test Set : 0.018604120782833623\n"
     ]
    }
   ],
   "source": [
    "\n",
    "#training = pandas_obj.concat( [ data_2018 , data_2019, data_2020 ] , ignore_index = True)\n",
    "\n",
    "training = data_kbest\n",
    "\n",
    "features_cols = [ 'hlml', 'ps','qlml']\n",
    "label_cols    = ['tlml']\n",
    "label_training = training.drop( features_cols, axis = 1)\n",
    "feature_testing = data_2021[features_cols]\n",
    "\n",
    "features_training = training.drop( label_cols , axis = 1)\n",
    "label_testing = data_2021[ label_cols ]\n",
    "\n",
    "model = BayesianRidge()\n",
    "\n",
    "model.fit( features_training, label_training )\n",
    "\n",
    "prediction_BR = model.predict( feature_testing )\n",
    "\n",
    "print(\"Evaluation for Bayesian Ridge Regression\")\n",
    "print(f\"r2 Score Of Test Set : { r2_score( label_testing , prediction_BR)}\")\n",
    "print(f\"MSE Of Test Set : {mean_squared_error( label_testing , prediction_BR)}\")\n",
    "print(f\"RMSE Of Test Set : {mean_squared_error( label_testing , prediction_BR , squared= False)}\")\n",
    "print(f\"MAE Of Test Set : {mean_absolute_error( label_testing , prediction_BR)}\")"
   ]
  },
  {
   "cell_type": "markdown",
   "metadata": {},
   "source": [
    "**Lasso Regression using sklearn and K fold cross validation**"
   ]
  },
  {
   "cell_type": "code",
   "execution_count": 21,
   "metadata": {},
   "outputs": [],
   "source": [
    "X = data_kbest\n",
    "y = data_kbest['tlml']\n",
    "model = Lasso(alpha=1.0)\n",
    "cv = RepeatedKFold(n_splits=10,n_repeats=3 , random_state = False )\n",
    "\n",
    "scores_r2= cross_val_score(model,X,y,scoring='r2',cv=cv,n_jobs=-1)\n",
    "scores_rmse= cross_val_score(model,X,y,scoring='neg_root_mean_squared_error',cv=cv,n_jobs=-1)\n",
    "scores_mse= cross_val_score(model,X,y,scoring='neg_mean_squared_error',cv=cv,n_jobs=-1)\n",
    "scores_mae= cross_val_score(model,X,y,scoring='neg_mean_absolute_error',cv=cv,n_jobs=-1)"
   ]
  },
  {
   "cell_type": "markdown",
   "metadata": {},
   "source": [
    "**Evaluation of Lasso Regression**"
   ]
  },
  {
   "cell_type": "code",
   "execution_count": 22,
   "metadata": {},
   "outputs": [
    {
     "name": "stdout",
     "output_type": "stream",
     "text": [
      "r2: 0.9999876059102674\n",
      "RMSE: 0.07037267181890253\n",
      "MSE: 0.0049523223210262545\n",
      "MAE: 0.05801063076446411\n"
     ]
    }
   ],
   "source": [
    "print(\"r2:\",scores_r2.mean())\n",
    "print(\"RMSE:\",-1*scores_rmse.mean())\n",
    "print(\"MSE:\",-1*scores_mse.mean())\n",
    "print(\"MAE:\",-1*scores_mae.mean())"
   ]
  }
 ],
 "metadata": {
  "interpreter": {
   "hash": "916dbcbb3f70747c44a77c7bcd40155683ae19c65e1c03b4aa3499c5328201f1"
  },
  "kernelspec": {
   "display_name": "Python 3.8.10 64-bit",
   "language": "python",
   "name": "python3"
  },
  "language_info": {
   "codemirror_mode": {
    "name": "ipython",
    "version": 3
   },
   "file_extension": ".py",
   "mimetype": "text/x-python",
   "name": "python",
   "nbconvert_exporter": "python",
   "pygments_lexer": "ipython3",
   "version": "3.8.10"
  },
  "orig_nbformat": 4
 },
 "nbformat": 4,
 "nbformat_minor": 2
}
